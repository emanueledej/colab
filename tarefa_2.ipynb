{
  "nbformat": 4,
  "nbformat_minor": 0,
  "metadata": {
    "colab": {
      "name": "tarefa_2.ipynb",
      "version": "0.3.2",
      "provenance": [],
      "include_colab_link": true
    },
    "kernelspec": {
      "name": "python3",
      "display_name": "Python 3"
    }
  },
  "cells": [
    {
      "cell_type": "markdown",
      "metadata": {
        "id": "view-in-github",
        "colab_type": "text"
      },
      "source": [
        "<a href=\"https://colab.research.google.com/github/emanueledej/colab/blob/master/tarefa_2.ipynb\" target=\"_parent\"><img src=\"https://colab.research.google.com/assets/colab-badge.svg\" alt=\"Open In Colab\"/></a>"
      ]
    },
    {
      "cell_type": "code",
      "metadata": {
        "id": "Dx1pNfsO0vit",
        "colab_type": "code",
        "colab": {
          "base_uri": "https://localhost:8080/",
          "height": 68
        },
        "outputId": "3af6e66b-ce39-401a-922c-4cc2317fe5aa"
      },
      "source": [
        "import math\n",
        "\n",
        "def check_prime(number):\n",
        "    is_prime=True\n",
        "    sqrt_number = math.sqrt(number)\n",
        "    number_float = float(number)\n",
        "    for i in range(2, int(sqrt_number) + 1):\n",
        "        if (number_float / i).is_integer():\n",
        "            is_prime = False\n",
        "          \n",
        "    print(\"check_prime - \",number, is_prime)  # True\n",
        "    return is_prime\n",
        "\n",
        "\n",
        "\n",
        "import multiprocessing \n",
        "import time \n",
        "  \n",
        "nn = 1000019\n",
        "number_thread = nn\n",
        "for i in range(3):\n",
        "    number_thread_old=number_thread\n",
        "    number_thread=int(math.sqrt(number_thread))\n",
        "    number_thread=number_thread+(number_thread_old%number_thread)\n",
        "    process = multiprocessing.Process(target=check_prime, args=(number_thread,)) \n",
        "    process.start()"
      ],
      "execution_count": 1,
      "outputs": [
        {
          "output_type": "stream",
          "text": [
            "check_prime -  1019 True\n",
            "check_prime -  58 False\n",
            "check_prime -  9 False\n"
          ],
          "name": "stdout"
        }
      ]
    }
  ]
}