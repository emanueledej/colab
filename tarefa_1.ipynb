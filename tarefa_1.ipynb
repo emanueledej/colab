{
  "nbformat": 4,
  "nbformat_minor": 0,
  "metadata": {
    "colab": {
      "name": "tarefa - 1",
      "version": "0.3.2",
      "provenance": [],
      "include_colab_link": true
    },
    "kernelspec": {
      "name": "python3",
      "display_name": "Python 3"
    }
  },
  "cells": [
    {
      "cell_type": "markdown",
      "metadata": {
        "id": "view-in-github",
        "colab_type": "text"
      },
      "source": [
        "<a href=\"https://colab.research.google.com/github/emanueledej/colab/blob/master/tarefa_1.ipynb\" target=\"_parent\"><img src=\"https://colab.research.google.com/assets/colab-badge.svg\" alt=\"Open In Colab\"/></a>"
      ]
    },
    {
      "cell_type": "code",
      "metadata": {
        "id": "hn3ENqFBP7e4",
        "colab_type": "code",
        "outputId": "00ed61f8-d241-4c33-8a6d-22ba49578cf6",
        "colab": {
          "base_uri": "https://localhost:8080/",
          "height": 68
        }
      },
      "source": [
        "import math\n",
        "\n",
        "def check_prime(number):\n",
        "    is_prime=True\n",
        "    sqrt_number = math.sqrt(number)\n",
        "    number_float = float(number)\n",
        "    for i in range(2, int(sqrt_number) + 1):\n",
        "        if (number_float / i).is_integer():\n",
        "            is_prime = False\n",
        "          \n",
        "    print(\"check_prime - \",number, is_prime)  # True\n",
        "    return is_prime\n",
        "\n",
        "\n",
        "\n",
        "import multiprocessing \n",
        "import time \n",
        "  \n",
        "nn = 1000019\n",
        "number_thread = nn\n",
        "for i in range(3):\n",
        "    number_thread_old=number_thread\n",
        "    number_thread=int(math.sqrt(number_thread))\n",
        "    number_thread=number_thread+(number_thread_old%number_thread)\n",
        "    process = multiprocessing.Process(target=check_prime, args=(number_thread,)) \n",
        "    process.start()"
      ],
      "execution_count": 0,
      "outputs": [
        {
          "output_type": "stream",
          "text": [
            "check_prime -  1019 True\n",
            "check_prime -  58 False\n",
            "check_prime -  9 False\n"
          ],
          "name": "stdout"
        }
      ]
    },
    {
      "cell_type": "code",
      "metadata": {
        "id": "J-z7_rG6njo9",
        "colab_type": "code",
        "outputId": "a3cc07df-b102-4f33-f608-eb936dad8444",
        "colab": {
          "base_uri": "https://localhost:8080/",
          "height": 119
        }
      },
      "source": [
        "import threading\n",
        "import math\n",
        "\n",
        "class MyThread(threading.Thread):\n",
        "    def __init__(self,num):\n",
        "        super(MyThread, self).__init__()\n",
        "        self.num = num\n",
        "\n",
        "    def run(self):\n",
        "        print (\"Running\")\n",
        "        print (self.num)\n",
        "        print(\"check_prime() = \", check_prime(self.num))\n",
        "\n",
        "    def check_prime(number):\n",
        "      sqrt_number = math.sqrt(number)\n",
        "      number_float = float(number)\n",
        "      for i in range(2, int(sqrt_number) + 1):\n",
        "          if (number_float / i).is_integer():\n",
        "              return False\n",
        "      return True\n",
        "\n",
        "thread_list = []\n",
        "nn = 1000019\n",
        "number_thread = nn\n",
        "for i in range(2):\n",
        "    number_thread_old=number_thread\n",
        "    number_thread=int(math.sqrt(number_thread))\n",
        "    number_thread=number_thread+(number_thread_old%number_thread)\n",
        "    thread = MyThread(number_thread)\n",
        "    thread_list.append(thread)\n",
        "    thread.start()"
      ],
      "execution_count": 0,
      "outputs": [
        {
          "output_type": "stream",
          "text": [
            "Running\n",
            "1019\n",
            "check_prime() =  True\n",
            "Running\n",
            "58\n",
            "check_prime() =  False\n"
          ],
          "name": "stdout"
        }
      ]
    }
  ]
}